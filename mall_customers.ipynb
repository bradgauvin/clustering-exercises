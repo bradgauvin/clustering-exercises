{
 "cells": [
  {
   "cell_type": "markdown",
   "id": "229d8262",
   "metadata": {},
   "source": [
    "### Mall Customers\n",
    "\n",
    "##### Notebook\n",
    "\n",
    "- Acquire data from the customers table in the mall_customers database.\n",
    "- Summarize the data (include distributions and descriptive statistics).\n",
    "- Detect outliers using IQR.\n",
    "- Split data into train, validate, and test.\n",
    "- Encode categorical columns using a one hot encoder (pd.get_dummies).\n",
    "- Handles missing values.\n",
    "- Scaling"
   ]
  },
  {
   "cell_type": "code",
   "execution_count": 1,
   "id": "12dc6fc0",
   "metadata": {
    "ExecuteTime": {
     "end_time": "2022-07-31T02:43:51.113455Z",
     "start_time": "2022-07-31T02:43:50.058654Z"
    }
   },
   "outputs": [],
   "source": [
    "# Environment Set up\n",
    "import pandas as pd\n",
    "import numpy as np\n",
    "from env import user, password, host,get_db_url\n",
    "import wrangle_zillow\n",
    "import seaborn as sns\n",
    "import os\n",
    "import env\n",
    "from imports import *\n"
   ]
  },
  {
   "cell_type": "code",
   "execution_count": 2,
   "id": "b26310c6",
   "metadata": {
    "ExecuteTime": {
     "end_time": "2022-07-31T02:43:51.115980Z",
     "start_time": "2022-07-31T02:43:51.114469Z"
    }
   },
   "outputs": [],
   "source": [
    "def get_connection(db, user=user, host=host,password=password):\n",
    "    return f'mysql+pymysql://{user}:{password}@{host}/{db}'"
   ]
  },
  {
   "cell_type": "code",
   "execution_count": 3,
   "id": "92cfc46d",
   "metadata": {
    "ExecuteTime": {
     "end_time": "2022-07-31T02:43:51.117993Z",
     "start_time": "2022-07-31T02:43:51.116614Z"
    }
   },
   "outputs": [],
   "source": [
    "query = \"\"\" SELECT * FROM customers; \"\"\""
   ]
  },
  {
   "cell_type": "code",
   "execution_count": 4,
   "id": "2af373d5",
   "metadata": {
    "ExecuteTime": {
     "end_time": "2022-07-31T02:43:51.121033Z",
     "start_time": "2022-07-31T02:43:51.119050Z"
    }
   },
   "outputs": [],
   "source": [
    "def acquire_mall():\n",
    "    \"\"\" Acquire mall customer data from mySQL server or cached csv, returns as Pandas DataFrame \"\"\"\n",
    "    \n",
    "    if os.path.exists('mall_customers.csv'):\n",
    "        print(\"Using cached data\")\n",
    "        mall = pd.read_csv('mall_customers.csv')\n",
    "    # Acquire data from database if CSV does not exist\n",
    "    else:\n",
    "        print(\"Acquiring data from server\")\n",
    "        query = \"\"\" SELECT * FROM customers; \"\"\"\n",
    "        mall = pd.read_sql(query, get_connection('mall_customers'))\n",
    "        \n",
    "        mall.to_csv('mall_customers.csv', index=False)\n",
    "        \n",
    "    \n",
    "    return mall"
   ]
  },
  {
   "cell_type": "code",
   "execution_count": 5,
   "id": "134a8ae3",
   "metadata": {
    "ExecuteTime": {
     "end_time": "2022-07-31T02:43:51.124865Z",
     "start_time": "2022-07-31T02:43:51.121695Z"
    }
   },
   "outputs": [
    {
     "name": "stdout",
     "output_type": "stream",
     "text": [
      "Using cached data\n"
     ]
    }
   ],
   "source": [
    "mall=acquire_mall()"
   ]
  },
  {
   "cell_type": "code",
   "execution_count": 6,
   "id": "059edabf",
   "metadata": {
    "ExecuteTime": {
     "end_time": "2022-07-31T02:43:51.131751Z",
     "start_time": "2022-07-31T02:43:51.125696Z"
    }
   },
   "outputs": [
    {
     "data": {
      "text/html": [
       "<div>\n",
       "<style scoped>\n",
       "    .dataframe tbody tr th:only-of-type {\n",
       "        vertical-align: middle;\n",
       "    }\n",
       "\n",
       "    .dataframe tbody tr th {\n",
       "        vertical-align: top;\n",
       "    }\n",
       "\n",
       "    .dataframe thead th {\n",
       "        text-align: right;\n",
       "    }\n",
       "</style>\n",
       "<table border=\"1\" class=\"dataframe\">\n",
       "  <thead>\n",
       "    <tr style=\"text-align: right;\">\n",
       "      <th></th>\n",
       "      <th>customer_id</th>\n",
       "      <th>gender</th>\n",
       "      <th>age</th>\n",
       "      <th>annual_income</th>\n",
       "      <th>spending_score</th>\n",
       "    </tr>\n",
       "  </thead>\n",
       "  <tbody>\n",
       "    <tr>\n",
       "      <th>0</th>\n",
       "      <td>1</td>\n",
       "      <td>Male</td>\n",
       "      <td>19</td>\n",
       "      <td>15</td>\n",
       "      <td>39</td>\n",
       "    </tr>\n",
       "    <tr>\n",
       "      <th>1</th>\n",
       "      <td>2</td>\n",
       "      <td>Male</td>\n",
       "      <td>21</td>\n",
       "      <td>15</td>\n",
       "      <td>81</td>\n",
       "    </tr>\n",
       "    <tr>\n",
       "      <th>2</th>\n",
       "      <td>3</td>\n",
       "      <td>Female</td>\n",
       "      <td>20</td>\n",
       "      <td>16</td>\n",
       "      <td>6</td>\n",
       "    </tr>\n",
       "    <tr>\n",
       "      <th>3</th>\n",
       "      <td>4</td>\n",
       "      <td>Female</td>\n",
       "      <td>23</td>\n",
       "      <td>16</td>\n",
       "      <td>77</td>\n",
       "    </tr>\n",
       "    <tr>\n",
       "      <th>4</th>\n",
       "      <td>5</td>\n",
       "      <td>Female</td>\n",
       "      <td>31</td>\n",
       "      <td>17</td>\n",
       "      <td>40</td>\n",
       "    </tr>\n",
       "  </tbody>\n",
       "</table>\n",
       "</div>"
      ],
      "text/plain": [
       "   customer_id  gender  age  annual_income  spending_score\n",
       "0            1    Male   19             15              39\n",
       "1            2    Male   21             15              81\n",
       "2            3  Female   20             16               6\n",
       "3            4  Female   23             16              77\n",
       "4            5  Female   31             17              40"
      ]
     },
     "execution_count": 6,
     "metadata": {},
     "output_type": "execute_result"
    }
   ],
   "source": [
    "mall.head()"
   ]
  },
  {
   "cell_type": "code",
   "execution_count": 7,
   "id": "2796df1e",
   "metadata": {
    "ExecuteTime": {
     "end_time": "2022-07-31T02:43:51.329269Z",
     "start_time": "2022-07-31T02:43:51.132608Z"
    }
   },
   "outputs": [
    {
     "data": {
      "text/plain": [
       "<seaborn.axisgrid.FacetGrid at 0x178710640>"
      ]
     },
     "execution_count": 7,
     "metadata": {},
     "output_type": "execute_result"
    },
    {
     "data": {
      "image/png": "[encoded data removed]",
      "text/plain": [
       "<Figure size 1080x360 with 3 Axes>"
      ]
     },
     "metadata": {
      "needs_background": "light"
     },
     "output_type": "display_data"
    }
   ],
   "source": [
    "sns.displot(data = mall[['age','annual_income','spending_score']].melt(), col = 'variable', x='value')"
   ]
  },
  {
   "cell_type": "code",
   "execution_count": 8,
   "id": "7295e042",
   "metadata": {
    "ExecuteTime": {
     "end_time": "2022-07-31T02:43:51.333619Z",
     "start_time": "2022-07-31T02:43:51.330578Z"
    }
   },
   "outputs": [],
   "source": [
    "# df=mall\n",
    "# def get_upper_outliers(s, k):\n",
    "#     '''\n",
    "#     Given a series and a cutoff value, k, returns the upper outliers for the\n",
    "#     series.\n",
    "    \n",
    "#     The values returned will be either 0 (if the point is not an outlier), or a\n",
    "#     number that indicates how far away from the upper bound the observation is.\n",
    "#     '''\n",
    "#     q1, q3 = s.quantile([.25, .75])\n",
    "#     iqr = q3 - q1\n",
    "#     upper_bound = q3 + k * iqr\n",
    "#     return s.apply(lambda x: max([x - upper_bound, 0]))\n",
    "\n",
    "# def add_upper_outlier_columns(df, k):\n",
    "#     '''\n",
    "#     Add a column with the suffix _outliers for all the numeric columns\n",
    "#     in the given dataframe.\n",
    "#     '''\n",
    "#     # outlier_cols = {col + '_outliers': get_upper_outliers(df[col], k)\n",
    "#     #                 for col in df.select_dtypes('number')}\n",
    "#     # return df.assign(**outlier_cols)\n",
    "    \n",
    "#     for col in df.select_dtypes('number'):\n",
    "#         df[col + '_outliers'] = get_upper_outliers(df[col], k)\n",
    "        \n",
    "#     return df\n",
    "\n",
    "# add_upper_outlier_columns(df, k=1.5)\n",
    "\n",
    "# df.head()"
   ]
  },
  {
   "cell_type": "code",
   "execution_count": 9,
   "id": "b15b3884",
   "metadata": {
    "ExecuteTime": {
     "end_time": "2022-07-31T02:43:51.338815Z",
     "start_time": "2022-07-31T02:43:51.334779Z"
    }
   },
   "outputs": [],
   "source": [
    "def remove_outliers(df, k, col_list):\n",
    "    ''' Removes outliers based on multiple of IQR. Accepts as arguments the dataframe, the k value for number of IQR to use as threshold, and the list of columns. Outputs a dataframe without the outliers.\n",
    "    '''\n",
    "    # Create a column that will label our rows as containing an outlier value or not\n",
    "    num_obs = df.shape[0]\n",
    "    df['outlier'] = False\n",
    "    for col in col_list:\n",
    "\n",
    "        q1, q3 = df[col].quantile([.25, .75])  # get quartiles\n",
    "        \n",
    "        iqr = q3 - q1   # calculate interquartile range\n",
    "        \n",
    "        upper_bound = q3 + k * iqr   # get upper bound\n",
    "        lower_bound = q1 - k * iqr   # get lower bound\n",
    "\n",
    "        # update the outlier label any time that the value is outside of boundaries\n",
    "        df['outlier'] = np.where(((df[col] < lower_bound) | (df[col] > upper_bound)) & (df.outlier == False), True, df.outlier)\n",
    "    \n",
    "    df = df[df.outlier == False]\n",
    "    df.drop(columns=['outlier'], inplace=True)\n",
    "    print(f\"Number of observations removed: {num_obs - df.shape[0]}\")\n",
    "        \n",
    "    return df"
   ]
  },
  {
   "cell_type": "code",
   "execution_count": 10,
   "id": "0640a02a",
   "metadata": {
    "ExecuteTime": {
     "end_time": "2022-07-31T02:43:51.343445Z",
     "start_time": "2022-07-31T02:43:51.341563Z"
    }
   },
   "outputs": [],
   "source": [
    "# def summary_info(df): \n",
    "#     # Summarize data (shape, info, summary stats, dtypes, shape)\n",
    "#     print('--- Shape: {}'.format(df.shape))\n",
    "#     print('--- Descriptions')\n",
    "#     print(df.describe(include='all'))\n",
    "#     print('--- Info')\n",
    "#     return df.info()"
   ]
  },
  {
   "cell_type": "code",
   "execution_count": 11,
   "id": "03d1845e",
   "metadata": {
    "ExecuteTime": {
     "end_time": "2022-07-31T02:43:51.443695Z",
     "start_time": "2022-07-31T02:43:51.344823Z"
    }
   },
   "outputs": [
    {
     "name": "stdout",
     "output_type": "stream",
     "text": [
      "Number of observations removed: 2\n"
     ]
    },
    {
     "data": {
      "text/html": [
       "<div>\n",
       "<style scoped>\n",
       "    .dataframe tbody tr th:only-of-type {\n",
       "        vertical-align: middle;\n",
       "    }\n",
       "\n",
       "    .dataframe tbody tr th {\n",
       "        vertical-align: top;\n",
       "    }\n",
       "\n",
       "    .dataframe thead th {\n",
       "        text-align: right;\n",
       "    }\n",
       "</style>\n",
       "<table border=\"1\" class=\"dataframe\">\n",
       "  <thead>\n",
       "    <tr style=\"text-align: right;\">\n",
       "      <th></th>\n",
       "      <th>customer_id</th>\n",
       "      <th>gender</th>\n",
       "      <th>age</th>\n",
       "      <th>annual_income</th>\n",
       "      <th>spending_score</th>\n",
       "    </tr>\n",
       "  </thead>\n",
       "  <tbody>\n",
       "    <tr>\n",
       "      <th>0</th>\n",
       "      <td>1</td>\n",
       "      <td>Male</td>\n",
       "      <td>19</td>\n",
       "      <td>15</td>\n",
       "      <td>39</td>\n",
       "    </tr>\n",
       "    <tr>\n",
       "      <th>1</th>\n",
       "      <td>2</td>\n",
       "      <td>Male</td>\n",
       "      <td>21</td>\n",
       "      <td>15</td>\n",
       "      <td>81</td>\n",
       "    </tr>\n",
       "    <tr>\n",
       "      <th>2</th>\n",
       "      <td>3</td>\n",
       "      <td>Female</td>\n",
       "      <td>20</td>\n",
       "      <td>16</td>\n",
       "      <td>6</td>\n",
       "    </tr>\n",
       "    <tr>\n",
       "      <th>3</th>\n",
       "      <td>4</td>\n",
       "      <td>Female</td>\n",
       "      <td>23</td>\n",
       "      <td>16</td>\n",
       "      <td>77</td>\n",
       "    </tr>\n",
       "    <tr>\n",
       "      <th>4</th>\n",
       "      <td>5</td>\n",
       "      <td>Female</td>\n",
       "      <td>31</td>\n",
       "      <td>17</td>\n",
       "      <td>40</td>\n",
       "    </tr>\n",
       "    <tr>\n",
       "      <th>...</th>\n",
       "      <td>...</td>\n",
       "      <td>...</td>\n",
       "      <td>...</td>\n",
       "      <td>...</td>\n",
       "      <td>...</td>\n",
       "    </tr>\n",
       "    <tr>\n",
       "      <th>193</th>\n",
       "      <td>194</td>\n",
       "      <td>Female</td>\n",
       "      <td>38</td>\n",
       "      <td>113</td>\n",
       "      <td>91</td>\n",
       "    </tr>\n",
       "    <tr>\n",
       "      <th>194</th>\n",
       "      <td>195</td>\n",
       "      <td>Female</td>\n",
       "      <td>47</td>\n",
       "      <td>120</td>\n",
       "      <td>16</td>\n",
       "    </tr>\n",
       "    <tr>\n",
       "      <th>195</th>\n",
       "      <td>196</td>\n",
       "      <td>Female</td>\n",
       "      <td>35</td>\n",
       "      <td>120</td>\n",
       "      <td>79</td>\n",
       "    </tr>\n",
       "    <tr>\n",
       "      <th>196</th>\n",
       "      <td>197</td>\n",
       "      <td>Female</td>\n",
       "      <td>45</td>\n",
       "      <td>126</td>\n",
       "      <td>28</td>\n",
       "    </tr>\n",
       "    <tr>\n",
       "      <th>197</th>\n",
       "      <td>198</td>\n",
       "      <td>Male</td>\n",
       "      <td>32</td>\n",
       "      <td>126</td>\n",
       "      <td>74</td>\n",
       "    </tr>\n",
       "  </tbody>\n",
       "</table>\n",
       "<p>198 rows × 5 columns</p>\n",
       "</div>"
      ],
      "text/plain": [
       "     customer_id  gender  age  annual_income  spending_score\n",
       "0              1    Male   19             15              39\n",
       "1              2    Male   21             15              81\n",
       "2              3  Female   20             16               6\n",
       "3              4  Female   23             16              77\n",
       "4              5  Female   31             17              40\n",
       "..           ...     ...  ...            ...             ...\n",
       "193          194  Female   38            113              91\n",
       "194          195  Female   47            120              16\n",
       "195          196  Female   35            120              79\n",
       "196          197  Female   45            126              28\n",
       "197          198    Male   32            126              74\n",
       "\n",
       "[198 rows x 5 columns]"
      ]
     },
     "execution_count": 11,
     "metadata": {},
     "output_type": "execute_result"
    }
   ],
   "source": [
    "col_list = ['gender','age','annual_income','spending_score']\n",
    "remove_outliers(mall, k=1.5, col_list=['age','annual_income','spending_score'])"
   ]
  },
  {
   "cell_type": "code",
   "execution_count": 12,
   "id": "81e9e226",
   "metadata": {
    "ExecuteTime": {
     "end_time": "2022-07-31T02:43:51.449425Z",
     "start_time": "2022-07-31T02:43:51.444458Z"
    }
   },
   "outputs": [],
   "source": [
    "from sklearn.model_selection import train_test_split\n",
    "import sklearn.preprocessing\n",
    "\n",
    "def split_data(df, train_size_vs_train_test = 0.8, train_size_vs_train_val = 0.7, random_state = 123):\n",
    "    \"\"\"Splits the inputted dataframe into 3 datasets for train, validate and test (in that order).\n",
    "    Can specific as arguments the percentage of the train/val set vs test (default 0.8) and the percentage of the train size vs train/val (default 0.7). Default values results in following:\n",
    "    Train: 0.56\n",
    "    Validate: 0.24\n",
    "    Test: 0.2\"\"\"\n",
    "    train_val, test = train_test_split(df, train_size=train_size_vs_train_test, random_state=123)\n",
    "    train, validate = train_test_split(train_val, train_size=train_size_vs_train_val, random_state=123)\n",
    "    \n",
    "    train_size = train_size_vs_train_test*train_size_vs_train_val\n",
    "    test_size = 1 - train_size_vs_train_test\n",
    "    validate_size = 1-test_size-train_size\n",
    "    \n",
    "    print(f\"Data split as follows: Train {train_size:.2%}, Validate {validate_size:.2%}, Test {test_size:.2%}\")\n",
    "    \n",
    "    return train, validate, test\n",
    "\n",
    "def scale_data(train, validate, test, features_to_scale):\n",
    "    \"\"\"Scales data using MinMax Scaler. \n",
    "    Accepts train, validate, and test datasets as inputs as well as a list of the features to scale. \n",
    "    Returns dataframe with scaled values added on as columns\"\"\"\n",
    "    \n",
    "    # Fit the scaler to train data only\n",
    "    scaler = sklearn.preprocessing.MinMaxScaler()\n",
    "    scaler.fit(train[features_to_scale])\n",
    "    \n",
    "    # Generate a list of the new column names with _scaled added on\n",
    "    scaled_columns = [col+\"_scaled\" for col in features_to_scale]\n",
    "    \n",
    "    # Transform the separate datasets using the scaler learned from train\n",
    "    scaled_train = scaler.transform(train[features_to_scale])\n",
    "    scaled_validate = scaler.transform(validate[features_to_scale])\n",
    "    scaled_test = scaler.transform(test[features_to_scale])\n",
    "    \n",
    "    # Concatenate the scaled data to the original unscaled data\n",
    "    train_scaled = pd.concat([train, pd.DataFrame(scaled_train,index=train.index, columns = scaled_columns)],axis=1)\n",
    "    validate_scaled = pd.concat([validate, pd.DataFrame(scaled_validate,index=validate.index, columns = scaled_columns)],axis=1)\n",
    "    test_scaled = pd.concat([test, pd.DataFrame(scaled_test,index=test.index, columns = scaled_columns)],axis=1)\n",
    "\n",
    "    return train_scaled, validate_scaled, test_scaled\n",
    "\n",
    "def wrangle_mall():\n",
    "    \"\"\" Acquires, encodes gender, splits, and scales data from mall customers. Returns 3 dataframes \"\"\"\n",
    "    \n",
    "    mall = acquire_mall()\n",
    "    \n",
    "    # Encode gender\n",
    "    mall = pd.get_dummies(mall, columns=['gender'], drop_first=True)\n",
    "    \n",
    "    # Split data\n",
    "    \n",
    "    train, validate, test = split_data(mall)\n",
    "    \n",
    "    # Scale data\n",
    "    \n",
    "    train_scaled, validate_scaled, test_scaled = scale_data(train, validate, test, ['age','annual_income','spending_score'])\n",
    "    \n",
    "    return train_scaled, validate_scaled, test_scaled"
   ]
  },
  {
   "cell_type": "code",
   "execution_count": 13,
   "id": "df6c718e",
   "metadata": {
    "ExecuteTime": {
     "end_time": "2022-07-31T02:43:51.457530Z",
     "start_time": "2022-07-31T02:43:51.450289Z"
    }
   },
   "outputs": [
    {
     "name": "stdout",
     "output_type": "stream",
     "text": [
      "Using cached data\n",
      "Data split as follows: Train 56.00%, Validate 24.00%, Test 20.00%\n"
     ]
    }
   ],
   "source": [
    "train, validate, test = wrangle_mall()"
   ]
  },
  {
   "cell_type": "code",
   "execution_count": 14,
   "id": "e6596181",
   "metadata": {
    "ExecuteTime": {
     "end_time": "2022-07-31T02:43:51.468042Z",
     "start_time": "2022-07-31T02:43:51.458384Z"
    }
   },
   "outputs": [
    {
     "data": {
      "text/html": [
       "<div>\n",
       "<style scoped>\n",
       "    .dataframe tbody tr th:only-of-type {\n",
       "        vertical-align: middle;\n",
       "    }\n",
       "\n",
       "    .dataframe tbody tr th {\n",
       "        vertical-align: top;\n",
       "    }\n",
       "\n",
       "    .dataframe thead th {\n",
       "        text-align: right;\n",
       "    }\n",
       "</style>\n",
       "<table border=\"1\" class=\"dataframe\">\n",
       "  <thead>\n",
       "    <tr style=\"text-align: right;\">\n",
       "      <th></th>\n",
       "      <th>count</th>\n",
       "      <th>mean</th>\n",
       "      <th>std</th>\n",
       "      <th>min</th>\n",
       "      <th>25%</th>\n",
       "      <th>50%</th>\n",
       "      <th>75%</th>\n",
       "      <th>max</th>\n",
       "    </tr>\n",
       "  </thead>\n",
       "  <tbody>\n",
       "    <tr>\n",
       "      <th>customer_id</th>\n",
       "      <td>112.00</td>\n",
       "      <td>99.34</td>\n",
       "      <td>57.29</td>\n",
       "      <td>1.00</td>\n",
       "      <td>49.50</td>\n",
       "      <td>101.00</td>\n",
       "      <td>148.25</td>\n",
       "      <td>200.00</td>\n",
       "    </tr>\n",
       "    <tr>\n",
       "      <th>age</th>\n",
       "      <td>112.00</td>\n",
       "      <td>38.42</td>\n",
       "      <td>14.59</td>\n",
       "      <td>18.00</td>\n",
       "      <td>27.00</td>\n",
       "      <td>35.50</td>\n",
       "      <td>48.00</td>\n",
       "      <td>70.00</td>\n",
       "    </tr>\n",
       "    <tr>\n",
       "      <th>annual_income</th>\n",
       "      <td>112.00</td>\n",
       "      <td>60.25</td>\n",
       "      <td>26.36</td>\n",
       "      <td>15.00</td>\n",
       "      <td>40.00</td>\n",
       "      <td>61.50</td>\n",
       "      <td>77.25</td>\n",
       "      <td>137.00</td>\n",
       "    </tr>\n",
       "    <tr>\n",
       "      <th>spending_score</th>\n",
       "      <td>112.00</td>\n",
       "      <td>52.04</td>\n",
       "      <td>24.16</td>\n",
       "      <td>1.00</td>\n",
       "      <td>35.75</td>\n",
       "      <td>50.00</td>\n",
       "      <td>73.25</td>\n",
       "      <td>95.00</td>\n",
       "    </tr>\n",
       "    <tr>\n",
       "      <th>gender_Male</th>\n",
       "      <td>112.00</td>\n",
       "      <td>0.38</td>\n",
       "      <td>0.49</td>\n",
       "      <td>0.00</td>\n",
       "      <td>0.00</td>\n",
       "      <td>0.00</td>\n",
       "      <td>1.00</td>\n",
       "      <td>1.00</td>\n",
       "    </tr>\n",
       "    <tr>\n",
       "      <th>age_scaled</th>\n",
       "      <td>112.00</td>\n",
       "      <td>0.39</td>\n",
       "      <td>0.28</td>\n",
       "      <td>0.00</td>\n",
       "      <td>0.17</td>\n",
       "      <td>0.34</td>\n",
       "      <td>0.58</td>\n",
       "      <td>1.00</td>\n",
       "    </tr>\n",
       "    <tr>\n",
       "      <th>annual_income_scaled</th>\n",
       "      <td>112.00</td>\n",
       "      <td>0.37</td>\n",
       "      <td>0.22</td>\n",
       "      <td>0.00</td>\n",
       "      <td>0.20</td>\n",
       "      <td>0.38</td>\n",
       "      <td>0.51</td>\n",
       "      <td>1.00</td>\n",
       "    </tr>\n",
       "    <tr>\n",
       "      <th>spending_score_scaled</th>\n",
       "      <td>112.00</td>\n",
       "      <td>0.54</td>\n",
       "      <td>0.26</td>\n",
       "      <td>0.00</td>\n",
       "      <td>0.37</td>\n",
       "      <td>0.52</td>\n",
       "      <td>0.77</td>\n",
       "      <td>1.00</td>\n",
       "    </tr>\n",
       "  </tbody>\n",
       "</table>\n",
       "</div>"
      ],
      "text/plain": [
       "                                     count                 mean  \\\n",
       "customer_id                         112.00                99.34   \n",
       "age                                 112.00                38.42   \n",
       "annual_income                       112.00                60.25   \n",
       "spending_score                      112.00                52.04   \n",
       "gender_Male                         112.00                 0.38   \n",
       "age_scaled                          112.00                 0.39   \n",
       "annual_income_scaled                112.00                 0.37   \n",
       "spending_score_scaled               112.00                 0.54   \n",
       "\n",
       "                                       std                  min  \\\n",
       "customer_id                          57.29                 1.00   \n",
       "age                                  14.59                18.00   \n",
       "annual_income                        26.36                15.00   \n",
       "spending_score                       24.16                 1.00   \n",
       "gender_Male                           0.49                 0.00   \n",
       "age_scaled                            0.28                 0.00   \n",
       "annual_income_scaled                  0.22                 0.00   \n",
       "spending_score_scaled                 0.26                 0.00   \n",
       "\n",
       "                                       25%                  50%  \\\n",
       "customer_id                          49.50               101.00   \n",
       "age                                  27.00                35.50   \n",
       "annual_income                        40.00                61.50   \n",
       "spending_score                       35.75                50.00   \n",
       "gender_Male                           0.00                 0.00   \n",
       "age_scaled                            0.17                 0.34   \n",
       "annual_income_scaled                  0.20                 0.38   \n",
       "spending_score_scaled                 0.37                 0.52   \n",
       "\n",
       "                                       75%                  max  \n",
       "customer_id                         148.25               200.00  \n",
       "age                                  48.00                70.00  \n",
       "annual_income                        77.25               137.00  \n",
       "spending_score                       73.25                95.00  \n",
       "gender_Male                           1.00                 1.00  \n",
       "age_scaled                            0.58                 1.00  \n",
       "annual_income_scaled                  0.51                 1.00  \n",
       "spending_score_scaled                 0.77                 1.00  "
      ]
     },
     "execution_count": 14,
     "metadata": {},
     "output_type": "execute_result"
    }
   ],
   "source": [
    "train.describe().T"
   ]
  },
  {
   "cell_type": "code",
   "execution_count": 15,
   "id": "dc89b056",
   "metadata": {
    "ExecuteTime": {
     "end_time": "2022-07-31T02:43:51.473769Z",
     "start_time": "2022-07-31T02:43:51.469342Z"
    }
   },
   "outputs": [
    {
     "name": "stdout",
     "output_type": "stream",
     "text": [
      "<class 'pandas.core.frame.DataFrame'>\n",
      "RangeIndex: 200 entries, 0 to 199\n",
      "Data columns (total 6 columns):\n",
      " #   Column          Non-Null Count  Dtype \n",
      "---  ------          --------------  ----- \n",
      " 0   customer_id     200 non-null    int64 \n",
      " 1   gender          200 non-null    object\n",
      " 2   age             200 non-null    int64 \n",
      " 3   annual_income   200 non-null    int64 \n",
      " 4   spending_score  200 non-null    int64 \n",
      " 5   outlier         200 non-null    bool  \n",
      "dtypes: bool(1), int64(4), object(1)\n",
      "memory usage: 8.1+ KB\n"
     ]
    }
   ],
   "source": [
    "mall.info()"
   ]
  },
  {
   "cell_type": "code",
   "execution_count": 16,
   "id": "61285a2d",
   "metadata": {
    "ExecuteTime": {
     "end_time": "2022-07-31T02:43:51.478579Z",
     "start_time": "2022-07-31T02:43:51.475086Z"
    }
   },
   "outputs": [
    {
     "data": {
      "text/html": [
       "<div>\n",
       "<style scoped>\n",
       "    .dataframe tbody tr th:only-of-type {\n",
       "        vertical-align: middle;\n",
       "    }\n",
       "\n",
       "    .dataframe tbody tr th {\n",
       "        vertical-align: top;\n",
       "    }\n",
       "\n",
       "    .dataframe thead th {\n",
       "        text-align: right;\n",
       "    }\n",
       "</style>\n",
       "<table border=\"1\" class=\"dataframe\">\n",
       "  <thead>\n",
       "    <tr style=\"text-align: right;\">\n",
       "      <th></th>\n",
       "      <th>customer_id</th>\n",
       "      <th>gender</th>\n",
       "      <th>age</th>\n",
       "      <th>annual_income</th>\n",
       "      <th>spending_score</th>\n",
       "      <th>outlier</th>\n",
       "    </tr>\n",
       "  </thead>\n",
       "  <tbody>\n",
       "    <tr>\n",
       "      <th>0</th>\n",
       "      <td>1</td>\n",
       "      <td>Male</td>\n",
       "      <td>19</td>\n",
       "      <td>15</td>\n",
       "      <td>39</td>\n",
       "      <td>False</td>\n",
       "    </tr>\n",
       "    <tr>\n",
       "      <th>1</th>\n",
       "      <td>2</td>\n",
       "      <td>Male</td>\n",
       "      <td>21</td>\n",
       "      <td>15</td>\n",
       "      <td>81</td>\n",
       "      <td>False</td>\n",
       "    </tr>\n",
       "    <tr>\n",
       "      <th>2</th>\n",
       "      <td>3</td>\n",
       "      <td>Female</td>\n",
       "      <td>20</td>\n",
       "      <td>16</td>\n",
       "      <td>6</td>\n",
       "      <td>False</td>\n",
       "    </tr>\n",
       "    <tr>\n",
       "      <th>3</th>\n",
       "      <td>4</td>\n",
       "      <td>Female</td>\n",
       "      <td>23</td>\n",
       "      <td>16</td>\n",
       "      <td>77</td>\n",
       "      <td>False</td>\n",
       "    </tr>\n",
       "    <tr>\n",
       "      <th>4</th>\n",
       "      <td>5</td>\n",
       "      <td>Female</td>\n",
       "      <td>31</td>\n",
       "      <td>17</td>\n",
       "      <td>40</td>\n",
       "      <td>False</td>\n",
       "    </tr>\n",
       "  </tbody>\n",
       "</table>\n",
       "</div>"
      ],
      "text/plain": [
       "   customer_id  gender  age  annual_income  spending_score  outlier\n",
       "0            1    Male   19             15              39    False\n",
       "1            2    Male   21             15              81    False\n",
       "2            3  Female   20             16               6    False\n",
       "3            4  Female   23             16              77    False\n",
       "4            5  Female   31             17              40    False"
      ]
     },
     "execution_count": 16,
     "metadata": {},
     "output_type": "execute_result"
    }
   ],
   "source": [
    "mall.head()"
   ]
  },
  {
   "cell_type": "code",
   "execution_count": 17,
   "id": "789289bb",
   "metadata": {
    "ExecuteTime": {
     "end_time": "2022-07-31T02:43:51.483446Z",
     "start_time": "2022-07-31T02:43:51.479308Z"
    }
   },
   "outputs": [
    {
     "data": {
      "text/html": [
       "<div>\n",
       "<style scoped>\n",
       "    .dataframe tbody tr th:only-of-type {\n",
       "        vertical-align: middle;\n",
       "    }\n",
       "\n",
       "    .dataframe tbody tr th {\n",
       "        vertical-align: top;\n",
       "    }\n",
       "\n",
       "    .dataframe thead th {\n",
       "        text-align: right;\n",
       "    }\n",
       "</style>\n",
       "<table border=\"1\" class=\"dataframe\">\n",
       "  <thead>\n",
       "    <tr style=\"text-align: right;\">\n",
       "      <th></th>\n",
       "      <th>customer_id</th>\n",
       "      <th>age</th>\n",
       "      <th>annual_income</th>\n",
       "      <th>spending_score</th>\n",
       "      <th>gender_Male</th>\n",
       "      <th>age_scaled</th>\n",
       "      <th>annual_income_scaled</th>\n",
       "      <th>spending_score_scaled</th>\n",
       "    </tr>\n",
       "  </thead>\n",
       "  <tbody>\n",
       "    <tr>\n",
       "      <th>123</th>\n",
       "      <td>124</td>\n",
       "      <td>39</td>\n",
       "      <td>69</td>\n",
       "      <td>91</td>\n",
       "      <td>1</td>\n",
       "      <td>0.40</td>\n",
       "      <td>0.44</td>\n",
       "      <td>0.96</td>\n",
       "    </tr>\n",
       "    <tr>\n",
       "      <th>76</th>\n",
       "      <td>77</td>\n",
       "      <td>45</td>\n",
       "      <td>54</td>\n",
       "      <td>53</td>\n",
       "      <td>0</td>\n",
       "      <td>0.52</td>\n",
       "      <td>0.32</td>\n",
       "      <td>0.55</td>\n",
       "    </tr>\n",
       "    <tr>\n",
       "      <th>171</th>\n",
       "      <td>172</td>\n",
       "      <td>28</td>\n",
       "      <td>87</td>\n",
       "      <td>75</td>\n",
       "      <td>1</td>\n",
       "      <td>0.19</td>\n",
       "      <td>0.59</td>\n",
       "      <td>0.79</td>\n",
       "    </tr>\n",
       "    <tr>\n",
       "      <th>10</th>\n",
       "      <td>11</td>\n",
       "      <td>67</td>\n",
       "      <td>19</td>\n",
       "      <td>14</td>\n",
       "      <td>1</td>\n",
       "      <td>0.94</td>\n",
       "      <td>0.03</td>\n",
       "      <td>0.14</td>\n",
       "    </tr>\n",
       "    <tr>\n",
       "      <th>35</th>\n",
       "      <td>36</td>\n",
       "      <td>21</td>\n",
       "      <td>33</td>\n",
       "      <td>81</td>\n",
       "      <td>0</td>\n",
       "      <td>0.06</td>\n",
       "      <td>0.15</td>\n",
       "      <td>0.85</td>\n",
       "    </tr>\n",
       "  </tbody>\n",
       "</table>\n",
       "</div>"
      ],
      "text/plain": [
       "     customer_id  age  annual_income  spending_score  gender_Male  \\\n",
       "123          124   39             69              91            1   \n",
       "76            77   45             54              53            0   \n",
       "171          172   28             87              75            1   \n",
       "10            11   67             19              14            1   \n",
       "35            36   21             33              81            0   \n",
       "\n",
       "              age_scaled  annual_income_scaled  spending_score_scaled  \n",
       "123                 0.40                  0.44                   0.96  \n",
       "76                  0.52                  0.32                   0.55  \n",
       "171                 0.19                  0.59                   0.79  \n",
       "10                  0.94                  0.03                   0.14  \n",
       "35                  0.06                  0.15                   0.85  "
      ]
     },
     "execution_count": 17,
     "metadata": {},
     "output_type": "execute_result"
    }
   ],
   "source": [
    "train.head()"
   ]
  },
  {
   "cell_type": "markdown",
   "id": "9b8b14f0",
   "metadata": {},
   "source": []
  },
  {
   "cell_type": "code",
   "execution_count": null,
   "id": "17da543d",
   "metadata": {},
   "outputs": [],
   "source": []
  }
 ],
 "metadata": {
  "kernelspec": {
   "display_name": "Python 3 (ipykernel)",
   "language": "python",
   "name": "python3"
  },
  "language_info": {
   "codemirror_mode": {
    "name": "ipython",
    "version": 3
   },
   "file_extension": ".py",
   "mimetype": "text/x-python",
   "name": "python",
   "nbconvert_exporter": "python",
   "pygments_lexer": "ipython3",
   "version": "3.9.13"
  }
 },
 "nbformat": 4,
 "nbformat_minor": 5
}
